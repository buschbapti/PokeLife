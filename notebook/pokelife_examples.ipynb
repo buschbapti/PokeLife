{
 "cells": [
  {
   "cell_type": "markdown",
   "metadata": {},
   "source": [
    "# Examples on how to use the API"
   ]
  },
  {
   "cell_type": "markdown",
   "metadata": {},
   "source": [
    "The API allows to create objects to be used such as pokemon and moves. At the beginning of your scripts add the import to Move and Pokemon classes"
   ]
  },
  {
   "cell_type": "code",
   "execution_count": 1,
   "metadata": {
    "collapsed": false
   },
   "outputs": [],
   "source": [
    "from pokelife.move import Move\n",
    "from pokelife.pokemon import Pokemon\n",
    "from pokelife.nature import Nature"
   ]
  },
  {
   "cell_type": "markdown",
   "metadata": {},
   "source": [
    "The two classess connect to the REST API at pokeapi.co to collect data. To create a new move you can either use its id or its name"
   ]
  },
  {
   "cell_type": "code",
   "execution_count": 2,
   "metadata": {
    "collapsed": false
   },
   "outputs": [],
   "source": [
    "move_1 = Move(1)\n",
    "move_2 = Move('razor-wind')"
   ]
  },
  {
   "cell_type": "markdown",
   "metadata": {},
   "source": [
    "The print functions are overridden to show all the collected attributes from the database"
   ]
  },
  {
   "cell_type": "code",
   "execution_count": 3,
   "metadata": {
    "collapsed": false
   },
   "outputs": [
    {
     "name": "stdout",
     "output_type": "stream",
     "text": [
      "accuracy: 100\n",
      "stat_changes: []\n",
      "flinch_chance: 0\n",
      "min_turns: None\n",
      "ailment_chance: 0\n",
      "damage_class: physical\n",
      "healing: 0\n",
      "name: pound\n",
      "max_hits: None\n",
      "stat_chance: 0\n",
      "priority: 0\n",
      "id: 1\n",
      "ailment: none\n",
      "max_turns: None\n",
      "type: normal\n",
      "effect_chance: None\n",
      "crit_rate: 0\n",
      "pp: 35\n",
      "power: 40\n",
      "drain: 0\n",
      "min_hits: None\n"
     ]
    }
   ],
   "source": [
    "print(move_1)"
   ]
  },
  {
   "cell_type": "code",
   "execution_count": 4,
   "metadata": {
    "collapsed": false
   },
   "outputs": [
    {
     "name": "stdout",
     "output_type": "stream",
     "text": [
      "accuracy: 100\n",
      "stat_changes: []\n",
      "flinch_chance: 0\n",
      "min_turns: None\n",
      "ailment_chance: 0\n",
      "damage_class: special\n",
      "healing: 0\n",
      "name: razor-wind\n",
      "max_hits: None\n",
      "stat_chance: 0\n",
      "priority: 0\n",
      "id: 13\n",
      "ailment: none\n",
      "max_turns: None\n",
      "type: normal\n",
      "effect_chance: None\n",
      "crit_rate: 1\n",
      "pp: 10\n",
      "power: 80\n",
      "drain: 0\n",
      "min_hits: None\n"
     ]
    }
   ],
   "source": [
    "print(move_2)"
   ]
  },
  {
   "cell_type": "markdown",
   "metadata": {},
   "source": [
    "All the attributes can be accessed individually"
   ]
  },
  {
   "cell_type": "code",
   "execution_count": 5,
   "metadata": {
    "collapsed": false
   },
   "outputs": [
    {
     "data": {
      "text/plain": [
       "'normal'"
      ]
     },
     "execution_count": 5,
     "metadata": {},
     "output_type": "execute_result"
    }
   ],
   "source": [
    "move_1.type"
   ]
  },
  {
   "cell_type": "markdown",
   "metadata": {},
   "source": [
    "You can instatiate pokemons in the exact same way"
   ]
  },
  {
   "cell_type": "code",
   "execution_count": 6,
   "metadata": {
    "collapsed": false
   },
   "outputs": [],
   "source": [
    "pokemon = Pokemon(12)"
   ]
  },
  {
   "cell_type": "code",
   "execution_count": 7,
   "metadata": {
    "collapsed": false
   },
   "outputs": [
    {
     "name": "stdout",
     "output_type": "stream",
     "text": [
      "_Pokemon__ability: compound-eyes\n",
      "available_abilities: ['tinted-lens', 'compound-eyes']\n",
      "_Pokemon__moves: [<pokelife.move.Move object at 0x7fbdd41ccfd0>, <pokelife.move.Move object at 0x7fbdd7c9d668>, <pokelife.move.Move object at 0x7fbdd41ea978>, <pokelife.move.Move object at 0x7fbdd4190358>]\n",
      "speed: {'base_stat': 70, 'effort': 0}\n",
      "attack: {'base_stat': 45, 'effort': 0}\n",
      "special-defense: {'base_stat': 80, 'effort': 1}\n",
      "_Pokemon__nature: sassy\n",
      "name: butterfree\n",
      "types: ['flying', 'bug']\n",
      "special-attack: {'base_stat': 90, 'effort': 2}\n",
      "defense: {'base_stat': 50, 'effort': 0}\n",
      "available_moves: ['razor-wind', 'gust', 'whirlwind', 'take-down', 'double-edge', 'supersonic', 'psybeam', 'hyper-beam', 'mega-drain', 'solar-beam', 'poison-powder', 'stun-spore', 'sleep-powder', 'string-shot', 'toxic', 'confusion', 'psychic', 'rage', 'teleport', 'mimic', 'double-team', 'reflect', 'bide', 'swift', 'dream-eater', 'flash', 'psywave', 'rest', 'substitute', 'thief', 'nightmare', 'snore', 'curse', 'protect', 'giga-drain', 'endure', 'swagger', 'attract', 'sleep-talk', 'return', 'frustration', 'safeguard', 'sweet-scent', 'hidden-power', 'twister', 'rain-dance', 'sunny-day', 'psych-up', 'shadow-ball', 'facade', 'skill-swap', 'secret-power', 'air-cutter', 'silver-wind', 'signal-beam', 'aerial-ace', 'roost', 'natural-gift', 'tailwind', 'u-turn', 'bug-buzz', 'energy-ball', 'giga-impact', 'defog', 'captivate', 'bug-bite', 'ominous-wind', 'venoshock', 'rage-powder', 'quiver-dance', 'round', 'acrobatics', 'struggle-bug', 'electroweb', 'confide', 'infestation']\n",
      "id: 12\n",
      "hp: {'base_stat': 60, 'effort': 0}\n"
     ]
    }
   ],
   "source": [
    "print(pokemon)"
   ]
  },
  {
   "cell_type": "markdown",
   "metadata": {},
   "source": [
    "At creation, nature, abilities and moves are choosen randomly. You can change those element by simply setting them to another value"
   ]
  },
  {
   "cell_type": "code",
   "execution_count": 8,
   "metadata": {
    "collapsed": false
   },
   "outputs": [
    {
     "name": "stdout",
     "output_type": "stream",
     "text": [
      "nature: sassy\n",
      "ability: compound-eyes\n",
      "move 0: struggle-bug\n",
      "move 1: captivate\n",
      "move 2: take-down\n",
      "move 3: signal-beam\n"
     ]
    }
   ],
   "source": [
    "print('nature: %s' % pokemon.nature)\n",
    "print('ability: %s' % pokemon.ability)\n",
    "print('\\n'.join(\"move %d: %s\" % (i, move.name) for i, move in enumerate(pokemon.moves)))"
   ]
  },
  {
   "cell_type": "code",
   "execution_count": 9,
   "metadata": {
    "collapsed": false
   },
   "outputs": [
    {
     "name": "stdout",
     "output_type": "stream",
     "text": [
      "compound-eyes\n"
     ]
    }
   ],
   "source": [
    "pokemon.ability = 'compound-eyes'\n",
    "print(pokemon.ability)"
   ]
  },
  {
   "cell_type": "markdown",
   "metadata": {},
   "source": [
    "Accepted abilities are only those present in the list of available ones"
   ]
  },
  {
   "cell_type": "code",
   "execution_count": 12,
   "metadata": {
    "collapsed": false
   },
   "outputs": [
    {
     "ename": "AssertionError",
     "evalue": "'stench' is not in the list of available abilities",
     "output_type": "error",
     "traceback": [
      "\u001b[1;31m---------------------------------------------------------------------------\u001b[0m",
      "\u001b[1;31mAssertionError\u001b[0m                            Traceback (most recent call last)",
      "\u001b[1;32m<ipython-input-12-868678c10b76>\u001b[0m in \u001b[0;36m<module>\u001b[1;34m()\u001b[0m\n\u001b[1;32m----> 1\u001b[1;33m \u001b[0mpokemon\u001b[0m\u001b[1;33m.\u001b[0m\u001b[0mability\u001b[0m \u001b[1;33m=\u001b[0m \u001b[1;34m'stench'\u001b[0m\u001b[1;33m\u001b[0m\u001b[0m\n\u001b[0m",
      "\u001b[1;32m/home/buschbapti/Documents/PokeLife/src/pokelife/pokemon.py\u001b[0m in \u001b[0;36mability\u001b[1;34m(self, ability)\u001b[0m\n\u001b[0;32m     32\u001b[0m     \u001b[1;33m@\u001b[0m\u001b[0mability\u001b[0m\u001b[1;33m.\u001b[0m\u001b[0msetter\u001b[0m\u001b[1;33m\u001b[0m\u001b[0m\n\u001b[0;32m     33\u001b[0m     \u001b[1;32mdef\u001b[0m \u001b[0mability\u001b[0m\u001b[1;33m(\u001b[0m\u001b[0mself\u001b[0m\u001b[1;33m,\u001b[0m \u001b[0mability\u001b[0m\u001b[1;33m)\u001b[0m\u001b[1;33m:\u001b[0m\u001b[1;33m\u001b[0m\u001b[0m\n\u001b[1;32m---> 34\u001b[1;33m         \u001b[1;32massert\u001b[0m \u001b[0mability\u001b[0m \u001b[1;32min\u001b[0m \u001b[0mself\u001b[0m\u001b[1;33m.\u001b[0m\u001b[0mavailable_abilities\u001b[0m\u001b[1;33m,\u001b[0m \u001b[1;34m\"%r is not in the list of available abilities\"\u001b[0m \u001b[1;33m%\u001b[0m \u001b[0mability\u001b[0m\u001b[1;33m\u001b[0m\u001b[0m\n\u001b[0m\u001b[0;32m     35\u001b[0m         \u001b[0mself\u001b[0m\u001b[1;33m.\u001b[0m\u001b[0m__ability\u001b[0m \u001b[1;33m=\u001b[0m \u001b[0mability\u001b[0m\u001b[1;33m\u001b[0m\u001b[0m\n\u001b[0;32m     36\u001b[0m \u001b[1;33m\u001b[0m\u001b[0m\n",
      "\u001b[1;31mAssertionError\u001b[0m: 'stench' is not in the list of available abilities"
     ]
    }
   ],
   "source": [
    "pokemon.ability = 'stench'"
   ]
  },
  {
   "cell_type": "markdown",
   "metadata": {},
   "source": [
    "You can also set an ability using set_ability_by_index(index) function. This function set as active ability the ability from the available list at selected index"
   ]
  },
  {
   "cell_type": "code",
   "execution_count": 13,
   "metadata": {
    "collapsed": false
   },
   "outputs": [],
   "source": [
    "pokemon.set_ability_by_index(0)"
   ]
  },
  {
   "cell_type": "markdown",
   "metadata": {},
   "source": [
    "To change the list of active moves, you need to provide a list of four moves id. Move id can be either move names or corresponding integer id. The class automatically change it to the corresponding Move object"
   ]
  },
  {
   "cell_type": "code",
   "execution_count": 14,
   "metadata": {
    "collapsed": true
   },
   "outputs": [],
   "source": [
    "move_pool = ['mimic', 13, 'supersonic', 'toxic']"
   ]
  },
  {
   "cell_type": "code",
   "execution_count": 15,
   "metadata": {
    "collapsed": false
   },
   "outputs": [],
   "source": [
    "pokemon.moves = move_pool"
   ]
  },
  {
   "cell_type": "code",
   "execution_count": 16,
   "metadata": {
    "collapsed": false
   },
   "outputs": [
    {
     "name": "stdout",
     "output_type": "stream",
     "text": [
      "move 0: mimic\n",
      "move 1: razor-wind\n",
      "move 2: supersonic\n",
      "move 3: toxic\n"
     ]
    }
   ],
   "source": [
    "print('\\n'.join(\"move %d: %s\" % (i, move.name) for i, move in enumerate(pokemon.moves)))"
   ]
  },
  {
   "cell_type": "markdown",
   "metadata": {},
   "source": [
    "You can also set a move at a specific indec using the function set_move_at_index(move_number, id_move)"
   ]
  },
  {
   "cell_type": "code",
   "execution_count": 17,
   "metadata": {
    "collapsed": false
   },
   "outputs": [],
   "source": [
    "pokemon.set_move_at_index(3, 'reflect')"
   ]
  },
  {
   "cell_type": "code",
   "execution_count": 18,
   "metadata": {
    "collapsed": false
   },
   "outputs": [
    {
     "name": "stdout",
     "output_type": "stream",
     "text": [
      "move 0: mimic\n",
      "move 1: razor-wind\n",
      "move 2: supersonic\n",
      "move 3: reflect\n"
     ]
    }
   ],
   "source": [
    "print('\\n'.join(\"move %d: %s\" % (i, move.name) for i, move in enumerate(pokemon.moves)))"
   ]
  },
  {
   "cell_type": "code",
   "execution_count": null,
   "metadata": {
    "collapsed": true
   },
   "outputs": [],
   "source": []
  }
 ],
 "metadata": {
  "anaconda-cloud": {},
  "kernelspec": {
   "display_name": "Python [Root]",
   "language": "python",
   "name": "Python [Root]"
  },
  "language_info": {
   "codemirror_mode": {
    "name": "ipython",
    "version": 3
   },
   "file_extension": ".py",
   "mimetype": "text/x-python",
   "name": "python",
   "nbconvert_exporter": "python",
   "pygments_lexer": "ipython3",
   "version": "3.5.2"
  }
 },
 "nbformat": 4,
 "nbformat_minor": 0
}
