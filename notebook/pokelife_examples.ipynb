{
 "cells": [
  {
   "cell_type": "markdown",
   "metadata": {},
   "source": [
    "# Examples on how to use the API"
   ]
  },
  {
   "cell_type": "markdown",
   "metadata": {},
   "source": [
    "The API allows to create objects to be used such as pokemon and moves. At the beginning of your scripts add the import to Move and Pokemon classes"
   ]
  },
  {
   "cell_type": "code",
   "execution_count": 1,
   "metadata": {
    "collapsed": false
   },
   "outputs": [],
   "source": [
    "from pokelife.move import Move\n",
    "from pokelife.pokemon import Pokemon\n",
    "from pokelife.nature import Nature"
   ]
  },
  {
   "cell_type": "markdown",
   "metadata": {},
   "source": [
    "The two classess connect to the REST API at pokeapi.co to collect data. To create a new move you can either use its id or its name"
   ]
  },
  {
   "cell_type": "code",
   "execution_count": null,
   "metadata": {
    "collapsed": false
   },
   "outputs": [],
   "source": [
    "move_1 = Move(1)\n",
    "move_2 = Move('razor-wind')"
   ]
  },
  {
   "cell_type": "markdown",
   "metadata": {},
   "source": [
    "The print functions are overridden to show all the collected attributes from the database"
   ]
  },
  {
   "cell_type": "code",
   "execution_count": null,
   "metadata": {
    "collapsed": false
   },
   "outputs": [],
   "source": [
    "print(move_1)"
   ]
  },
  {
   "cell_type": "code",
   "execution_count": null,
   "metadata": {
    "collapsed": false
   },
   "outputs": [],
   "source": [
    "print(move_2)"
   ]
  },
  {
   "cell_type": "markdown",
   "metadata": {},
   "source": [
    "All the attributes can be accessed individually"
   ]
  },
  {
   "cell_type": "code",
   "execution_count": null,
   "metadata": {
    "collapsed": false
   },
   "outputs": [],
   "source": [
    "move_1.type"
   ]
  },
  {
   "cell_type": "markdown",
   "metadata": {},
   "source": [
    "You can instatiate pokemons in the exact same way"
   ]
  },
  {
   "cell_type": "code",
   "execution_count": 4,
   "metadata": {
    "collapsed": false
   },
   "outputs": [],
   "source": [
    "pokemon = Pokemon(12)"
   ]
  },
  {
   "cell_type": "code",
   "execution_count": 5,
   "metadata": {
    "collapsed": false
   },
   "outputs": [
    {
     "name": "stdout",
     "output_type": "stream",
     "text": [
      "available_moves: ['razor-wind', 'gust', 'whirlwind', 'take-down', 'double-edge', 'supersonic', 'psybeam', 'hyper-beam', 'mega-drain', 'solar-beam', 'poison-powder', 'stun-spore', 'sleep-powder', 'string-shot', 'toxic', 'confusion', 'psychic', 'rage', 'teleport', 'mimic', 'double-team', 'reflect', 'bide', 'swift', 'dream-eater', 'flash', 'psywave', 'rest', 'substitute', 'thief', 'nightmare', 'snore', 'curse', 'protect', 'giga-drain', 'endure', 'swagger', 'attract', 'sleep-talk', 'return', 'frustration', 'safeguard', 'sweet-scent', 'hidden-power', 'twister', 'rain-dance', 'sunny-day', 'psych-up', 'shadow-ball', 'facade', 'skill-swap', 'secret-power', 'air-cutter', 'silver-wind', 'signal-beam', 'aerial-ace', 'roost', 'natural-gift', 'tailwind', 'u-turn', 'bug-buzz', 'energy-ball', 'giga-impact', 'defog', 'captivate', 'bug-bite', 'ominous-wind', 'venoshock', 'rage-powder', 'quiver-dance', 'round', 'acrobatics', 'struggle-bug', 'electroweb', 'confide', 'infestation']\n",
      "id: 12\n",
      "name: butterfree\n",
      "special-attack: {'base_stat': 90, 'effort': 2}\n",
      "_Pokemon__moves: [<pokelife.move.Move object at 0x7fba02853fd0>, <pokelife.move.Move object at 0x7fba030e6cc0>, <pokelife.move.Move object at 0x7fba0807a1d0>, <pokelife.move.Move object at 0x7fba08033080>]\n",
      "_Pokemon__nature: relaxed\n",
      "hp: {'base_stat': 60, 'effort': 0}\n",
      "defense: {'base_stat': 50, 'effort': 0}\n",
      "attack: {'base_stat': 45, 'effort': 0}\n",
      "available_abilities: ['tinted-lens', 'compound-eyes']\n",
      "special-defense: {'base_stat': 80, 'effort': 1}\n",
      "speed: {'base_stat': 70, 'effort': 0}\n",
      "_Pokemon__ability: compound-eyes\n",
      "types: ['flying', 'bug']\n"
     ]
    }
   ],
   "source": [
    "print(pokemon)"
   ]
  },
  {
   "cell_type": "markdown",
   "metadata": {},
   "source": [
    "At creation, nature, abilities and moves are choosen randomly. You can change those element by simply setting them to another value"
   ]
  },
  {
   "cell_type": "code",
   "execution_count": 6,
   "metadata": {
    "collapsed": false
   },
   "outputs": [
    {
     "name": "stdout",
     "output_type": "stream",
     "text": [
      "nature: relaxed\n",
      "ability: compound-eyes\n",
      "move 0: supersonic\n",
      "move 1: gust\n",
      "move 2: nightmare\n",
      "move 3: twister\n"
     ]
    }
   ],
   "source": [
    "print('nature: %s' % pokemon.nature)\n",
    "print('ability: %s' % pokemon.ability)\n",
    "print('\\n'.join(\"move %d: %s\" % (i, move.name) for i, move in enumerate(pokemon.moves)))"
   ]
  },
  {
   "cell_type": "code",
   "execution_count": null,
   "metadata": {
    "collapsed": false
   },
   "outputs": [],
   "source": [
    "pokemon.ability = 'compound-eyes'\n",
    "print(pokemon.ability)"
   ]
  },
  {
   "cell_type": "markdown",
   "metadata": {},
   "source": [
    "Accepted abilities are only those present in the list of available ones"
   ]
  },
  {
   "cell_type": "code",
   "execution_count": null,
   "metadata": {
    "collapsed": false
   },
   "outputs": [],
   "source": [
    "pokemon.ability = 'stench'"
   ]
  },
  {
   "cell_type": "markdown",
   "metadata": {},
   "source": [
    "You can also set an ability using set_ability_by_index(index) function. This function set as active ability the ability from the available list at selected index"
   ]
  },
  {
   "cell_type": "code",
   "execution_count": null,
   "metadata": {
    "collapsed": false
   },
   "outputs": [],
   "source": [
    "pokemon.set_ability_by_index(0)"
   ]
  },
  {
   "cell_type": "markdown",
   "metadata": {},
   "source": [
    "To change the list of active moves, you need to provide a list of four moves id. Move id can be either move names or corresponding integer id. The class automatically change it to the corresponding Move object"
   ]
  },
  {
   "cell_type": "code",
   "execution_count": null,
   "metadata": {
    "collapsed": true
   },
   "outputs": [],
   "source": [
    "move_pool = ['mimic', 13, 'supersonic', 'toxic']"
   ]
  },
  {
   "cell_type": "code",
   "execution_count": null,
   "metadata": {
    "collapsed": false
   },
   "outputs": [],
   "source": [
    "pokemon.moves = move_pool"
   ]
  },
  {
   "cell_type": "code",
   "execution_count": null,
   "metadata": {
    "collapsed": false
   },
   "outputs": [],
   "source": [
    "print('\\n'.join(\"move %d: %s\" % (i, move.name) for i, move in enumerate(pokemon.moves)))"
   ]
  },
  {
   "cell_type": "markdown",
   "metadata": {},
   "source": [
    "You can also set a move at a specific indec using the function set_move_at_index(move_number, id_move)"
   ]
  },
  {
   "cell_type": "code",
   "execution_count": null,
   "metadata": {
    "collapsed": false
   },
   "outputs": [],
   "source": [
    "pokemon.set_move_at_index(3, 'reflect')"
   ]
  },
  {
   "cell_type": "code",
   "execution_count": null,
   "metadata": {
    "collapsed": false
   },
   "outputs": [],
   "source": [
    "print('\\n'.join(\"move %d: %s\" % (i, move.name) for i, move in enumerate(pokemon.moves)))"
   ]
  },
  {
   "cell_type": "code",
   "execution_count": null,
   "metadata": {
    "collapsed": true
   },
   "outputs": [],
   "source": []
  }
 ],
 "metadata": {
  "anaconda-cloud": {},
  "kernelspec": {
   "display_name": "Python [Root]",
   "language": "python",
   "name": "Python [Root]"
  },
  "language_info": {
   "codemirror_mode": {
    "name": "ipython",
    "version": 3
   },
   "file_extension": ".py",
   "mimetype": "text/x-python",
   "name": "python",
   "nbconvert_exporter": "python",
   "pygments_lexer": "ipython3",
   "version": "3.5.2"
  }
 },
 "nbformat": 4,
 "nbformat_minor": 0
}
